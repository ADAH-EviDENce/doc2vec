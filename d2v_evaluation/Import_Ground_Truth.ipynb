{
 "cells": [
  {
   "cell_type": "code",
   "execution_count": null,
   "metadata": {},
   "outputs": [],
   "source": [
    "import pandas as pd\n",
    "import os\n",
    "import numpy as np\n",
    "import scipy as sp\n",
    "#\n",
    "import gensim\n",
    "from smart_open import smart_open\n",
    "import multiprocessing"
   ]
  },
  {
   "cell_type": "code",
   "execution_count": null,
   "metadata": {},
   "outputs": [],
   "source": [
    "%matplotlib inline"
   ]
  },
  {
   "cell_type": "markdown",
   "metadata": {},
   "source": [
    "Steps to be performed:\n",
    "\n",
    "0) import manually annotated set\n",
    "\n",
    "1) for final chosen annotations - check self-consistency of doubles\n",
    "\n",
    "1.1) if all self cosistent, select unique set. else make note of inconsistent annotations and use first occurance value\n",
    "\n",
    "2) import corpus, look-up corpus, frozen model and reinferred model vectors\n",
    "\n",
    "3) select and construct reduced corpus/lookup-corpus from annotated set, select corresponding reinferred vectors\n",
    "\n",
    "4) implement (interactive) selection on this for seed fragments:\n",
    "    issues: \n",
    "    \n",
    "    - which seed fragment\n",
    "            \n",
    "    - how far should expansion go\n",
    "\n",
    "5) explore and quantify behaviour of returned ground truth as function of cosine distance"
   ]
  },
  {
   "cell_type": "markdown",
   "metadata": {},
   "source": [
    "## 0) Import annotated ground truth"
   ]
  },
  {
   "cell_type": "code",
   "execution_count": null,
   "metadata": {},
   "outputs": [],
   "source": [
    "groundTruthFile='Manual_annotation_TOTAAL_door_Jeroen_en_Susan.xlsx'\n",
    "groundTruthFileSheet='Resultaat Manuele Annotatie'"
   ]
  },
  {
   "cell_type": "code",
   "execution_count": null,
   "metadata": {},
   "outputs": [],
   "source": [
    "groundTruth = pd.read_excel(groundTruthFile, sheet_name=groundTruthFileSheet)"
   ]
  },
  {
   "cell_type": "code",
   "execution_count": null,
   "metadata": {},
   "outputs": [],
   "source": [
    "#groundTruth['Titel']\n"
   ]
  },
  {
   "cell_type": "code",
   "execution_count": null,
   "metadata": {},
   "outputs": [],
   "source": [
    "type(groundTruth)"
   ]
  },
  {
   "cell_type": "markdown",
   "metadata": {},
   "source": [
    "## 1) Check duplicates for self-consistency"
   ]
  },
  {
   "cell_type": "code",
   "execution_count": null,
   "metadata": {},
   "outputs": [],
   "source": [
    "# show duplicate entries to check whether EINDOORDEEL is consistent. It is, so duplicate can be dropped.\n",
    "pd.concat(g for _, g in groundTruth.groupby(\"Titel\") if len(g) > 1)\n"
   ]
  },
  {
   "cell_type": "code",
   "execution_count": null,
   "metadata": {},
   "outputs": [],
   "source": [
    "groundTruth.drop_duplicates(['Titel'],keep='first', inplace=True)\n",
    "groundTruth.reset_index(drop=True,inplace=True)\n",
    "groundTruth['Titel'][121]\n"
   ]
  },
  {
   "cell_type": "code",
   "execution_count": null,
   "metadata": {},
   "outputs": [],
   "source": [
    "len(groundTruth)"
   ]
  },
  {
   "cell_type": "markdown",
   "metadata": {},
   "source": [
    "## 2) Import corpus and reinferred vectors"
   ]
  },
  {
   "cell_type": "markdown",
   "metadata": {},
   "source": [
    "The following are routines to instantiate the corpus, this should be moved to a separate utilities module"
   ]
  },
  {
   "cell_type": "code",
   "execution_count": null,
   "metadata": {},
   "outputs": [],
   "source": [
    "stopwordsFile = '/Users/eslt0101/Projects/EviDENce/ML/stopwords-nl-stopwords-iso_expanded_gensim_processed.txt'\n",
    "corpus_dir = '/Users/eslt0101/Data/eScience/EviDENce/Data/NR-Teksts/EviDENce_NR_output_clean/TargetSize150'\n",
    "corpus_token_file = 'GV_corpus_text_para_clean.txt'\n",
    "corpus_text_file = 'GV_corpus_text_para_clean.txt'\n",
    "corpus_filenames_file = 'GV_corpus_text_para_clean_filenames.txt'\n",
    "\n",
    "full_ctokf = os.path.join(corpus_dir,corpus_token_file)\n",
    "full_ctf = os.path.join(corpus_dir,corpus_text_file)\n",
    "full_cff = os.path.join(corpus_dir,corpus_filenames_file) "
   ]
  },
  {
   "cell_type": "code",
   "execution_count": null,
   "metadata": {},
   "outputs": [],
   "source": [
    "with open(stopwordsFile) as f:\n",
    "    dutch_stopwords = f.readlines()\n",
    "    "
   ]
  },
  {
   "cell_type": "code",
   "execution_count": null,
   "metadata": {},
   "outputs": [],
   "source": [
    "dutch_stopwords = [w.rstrip() for  w in dutch_stopwords]\n"
   ]
  },
  {
   "cell_type": "code",
   "execution_count": null,
   "metadata": {},
   "outputs": [],
   "source": [
    "def read_corpus(corpus_token_file,labeled=False):\n",
    "    with smart_open(corpus_token_file,'r') as tf:\n",
    "        for i,text_line in enumerate(tf):\n",
    "            if labeled :\n",
    "                #yield gensim.models.doc2vec.TaggedDocument(gensim.utils.simple_preprocess(text_line), [fn_line.rstrip()])\n",
    "                yield gensim.models.doc2vec.TaggedDocument([token for token in gensim.utils.simple_preprocess(text_line,deacc=True) if token not in dutch_stopwords], [i])\n",
    "            else:\n",
    "                yield [token for token in gensim.utils.simple_preprocess(text_line,deacc=True) if token not in dutch_stopwords]"
   ]
  },
  {
   "cell_type": "code",
   "execution_count": null,
   "metadata": {},
   "outputs": [],
   "source": [
    "def read_corpus_lookup(corpus_filenames_file, corpus_token_file) :\n",
    "    with smart_open(corpus_filenames_file, 'r') as fnf, smart_open(corpus_token_file,'r') as tf:\n",
    "        i=0\n",
    "        for (fn_line,tf_line) in zip(fnf,tf):\n",
    "            yield ([i],[fn_line.rstrip()],[tf_line])\n",
    "            i+=1"
   ]
  },
  {
   "cell_type": "code",
   "execution_count": null,
   "metadata": {},
   "outputs": [],
   "source": [
    "corp = list(read_corpus(full_ctokf,labeled=True))"
   ]
  },
  {
   "cell_type": "code",
   "execution_count": null,
   "metadata": {},
   "outputs": [],
   "source": [
    "corp_lookup = list(read_corpus_lookup(full_cff,full_ctokf))"
   ]
  },
  {
   "cell_type": "markdown",
   "metadata": {},
   "source": [
    "The following loads the frozen trained model"
   ]
  },
  {
   "cell_type": "code",
   "execution_count": null,
   "metadata": {},
   "outputs": [],
   "source": [
    "model = gensim.utils.SaveLoad.load('/Users/eslt0101/Projects/EviDENce/ML/model_default_v50_mc2_e30_freeze.d2v')\n"
   ]
  },
  {
   "cell_type": "markdown",
   "metadata": {},
   "source": [
    "load the reinferred vectors for the full corpus"
   ]
  },
  {
   "cell_type": "code",
   "execution_count": null,
   "metadata": {},
   "outputs": [],
   "source": [
    "reinf_corp_medvec= np.load('/Users/eslt0101/Projects/EviDENce/ML/reinferred_corpus_terms_para_150_medvec.npy')"
   ]
  },
  {
   "cell_type": "markdown",
   "metadata": {},
   "source": [
    "## 3) construct corpus/vector set limited to ground truth"
   ]
  },
  {
   "cell_type": "code",
   "execution_count": null,
   "metadata": {},
   "outputs": [],
   "source": [
    "corp_lookup[0][1]"
   ]
  },
  {
   "cell_type": "code",
   "execution_count": null,
   "metadata": {},
   "outputs": [],
   "source": [
    "groundTruth['Titel'][0]"
   ]
  },
  {
   "cell_type": "code",
   "execution_count": null,
   "metadata": {},
   "outputs": [],
   "source": [
    "with open(full_cff,'r') as fnf:\n",
    "    corpFileNames=fnf.readlines()"
   ]
  },
  {
   "cell_type": "code",
   "execution_count": null,
   "metadata": {},
   "outputs": [],
   "source": [
    "corpFileNames = [fn.rstrip().split('.')[0] for fn in corpFileNames ]\n",
    "#corpFileNames = [fn.rstrip() for fn in corpFileNames ]"
   ]
  },
  {
   "cell_type": "code",
   "execution_count": null,
   "metadata": {},
   "outputs": [],
   "source": [
    "groundTruth_inCorpusIds =[]\n",
    "for j in range(len(groundTruth)):\n",
    "    #print(j, groundTruth['Titel'][j])\n",
    "    gtTitel = groundTruth['Titel'][j]\n",
    "    corpusIndex = [i for i,ent in enumerate(corpFileNames) if ent == gtTitel]\n",
    "    groundTruth_inCorpusIds.append(corpusIndex[0])\n",
    "\n"
   ]
  },
  {
   "cell_type": "code",
   "execution_count": null,
   "metadata": {},
   "outputs": [],
   "source": [
    "#groundTruth_inCorpusIds"
   ]
  },
  {
   "cell_type": "code",
   "execution_count": null,
   "metadata": {},
   "outputs": [],
   "source": [
    "\n",
    "gt_corp_lookup = [corp_lookup[i] for i in groundTruth_inCorpusIds]\n"
   ]
  },
  {
   "cell_type": "code",
   "execution_count": null,
   "metadata": {},
   "outputs": [],
   "source": [
    "gt_corp=[corp[i] for i in groundTruth_inCorpusIds]\n"
   ]
  },
  {
   "cell_type": "code",
   "execution_count": null,
   "metadata": {},
   "outputs": [],
   "source": [
    "type(reinf_corp_medvec)"
   ]
  },
  {
   "cell_type": "code",
   "execution_count": null,
   "metadata": {},
   "outputs": [],
   "source": [
    "gt_corp_reinf_medvec=reinf_corp_medvec[groundTruth_inCorpusIds]"
   ]
  },
  {
   "cell_type": "markdown",
   "metadata": {},
   "source": [
    "### Append reinferred vectors to dataframe"
   ]
  },
  {
   "cell_type": "code",
   "execution_count": null,
   "metadata": {},
   "outputs": [],
   "source": [
    "series_reinfVec =pd.Series(np.array([]))\n",
    "for i in range(len(gt_corp_reinf_medvec)):\n",
    "    series_reinfVec[i] = gt_corp_reinf_medvec[i]\n",
    "    \n"
   ]
  },
  {
   "cell_type": "code",
   "execution_count": null,
   "metadata": {},
   "outputs": [],
   "source": [
    "groundTruthEx = groundTruth"
   ]
  },
  {
   "cell_type": "code",
   "execution_count": null,
   "metadata": {},
   "outputs": [],
   "source": [
    "groundTruthEx.insert(10,'reinfVec',series_reinfVec)"
   ]
  },
  {
   "cell_type": "code",
   "execution_count": null,
   "metadata": {},
   "outputs": [],
   "source": [
    "(groundTruthEx['reinfVec'][0])"
   ]
  },
  {
   "cell_type": "code",
   "execution_count": null,
   "metadata": {},
   "outputs": [],
   "source": [
    "type(groundTruthEx['reinfVec'])"
   ]
  },
  {
   "cell_type": "markdown",
   "metadata": {},
   "source": [
    "#### Consider distribution of norms for vectors inferred from coprus. Most w/ 1 < norm < 2"
   ]
  },
  {
   "cell_type": "code",
   "execution_count": null,
   "metadata": {},
   "outputs": [],
   "source": [
    "gtNorms=[]\n",
    "for i in range(len(groundTruthEx)):\n",
    "    nn=np.linalg.norm(groundTruthEx['reinfVec'][i])\n",
    "    #print(nn)\n",
    "    gtNorms.append(nn)\n"
   ]
  },
  {
   "cell_type": "code",
   "execution_count": null,
   "metadata": {},
   "outputs": [],
   "source": [
    "np.array(gtNorms)\n",
    "gtNorms = pd.Series(gtNorms)"
   ]
  },
  {
   "cell_type": "code",
   "execution_count": null,
   "metadata": {},
   "outputs": [],
   "source": [
    "groundTruthEx.insert(11,'vecNorm',gtNorms)"
   ]
  },
  {
   "cell_type": "code",
   "execution_count": null,
   "metadata": {},
   "outputs": [],
   "source": [
    "groundTruthEx['vecNorm'].hist(bins=np.arange(0., 5. + 0.1, 0.1),by=groundTruthEx['EINDOORDEEL_janee'])"
   ]
  },
  {
   "cell_type": "code",
   "execution_count": null,
   "metadata": {},
   "outputs": [],
   "source": [
    "gtNorms.values.argmax()\n",
    "\n"
   ]
  },
  {
   "cell_type": "code",
   "execution_count": null,
   "metadata": {},
   "outputs": [],
   "source": [
    "gtNorms[320]"
   ]
  },
  {
   "cell_type": "code",
   "execution_count": null,
   "metadata": {},
   "outputs": [],
   "source": [
    "groundTruthEx['EINDOORDEEL_janee'][320]"
   ]
  },
  {
   "cell_type": "code",
   "execution_count": null,
   "metadata": {},
   "outputs": [],
   "source": []
  },
  {
   "cell_type": "markdown",
   "metadata": {},
   "source": [
    "### set up seed fragments and their vectors"
   ]
  },
  {
   "cell_type": "code",
   "execution_count": null,
   "metadata": {},
   "outputs": [],
   "source": [
    "seed_fromCorpusExt = \"Een razzia . Dus die ... . 'Ja , wat doen we ? ' . En we lopen over het dak , en toen hoorden we vanaf de graansilo , daar stond een luchtafweergeschut , en daar kregen we vuur van . Toen vlogen de kogels om onze oren . Toen zij we als de sodomieter via de schoorsteen , in dekking naar Dordtselaan 98 gevlucht . En daar kwamen we en ja , wat doen we ? Ja , wij gaan niet naar beneden toe . Dus wij gingen niet naar beneden toe . Wij gingen perse niet naar beneden .\"\n",
    "seed_manual = 'hij sloeg er op dat het kapot ging en schoot met zijn geweer. het was verschrikkelijk om aan te zien. ik verstopte me, maar kon het geluid van de explosies niet uit mijn ooren krijgen. Toen het over was ben ik zo snel ik kon gaan rennen.'\n"
   ]
  },
  {
   "cell_type": "code",
   "execution_count": null,
   "metadata": {},
   "outputs": [],
   "source": [
    "seed_fromCorpusExt_processed = [token for token in gensim.utils.simple_preprocess(seed_fromCorpusExt,deacc=True) if token not in dutch_stopwords]\n",
    "seed_manual_processed = [token for token in gensim.utils.simple_preprocess(seed_manual,deacc=True) if token not in dutch_stopwords]"
   ]
  },
  {
   "cell_type": "code",
   "execution_count": null,
   "metadata": {},
   "outputs": [],
   "source": [
    "infVecArr_seed_fromCorpusExt =[]\n",
    "infVecArr_seed_manual = []\n",
    "\n",
    "for i in range(100):\n",
    "    iV_fCE = model.infer_vector(seed_fromCorpusExt_processed)\n",
    "    iV_m = model.infer_vector(seed_manual_processed)\n",
    "    \n",
    "    infVecArr_seed_fromCorpusExt.append(iV_fCE)\n",
    "    infVecArr_seed_manual.append(iV_m)\n",
    "    \n",
    "iV_seed_fromCorpusExt = np.median(np.array(infVecArr_seed_fromCorpusExt), axis=0)\n",
    "iV_seed_fromCorpusExt_std = np.array(infVecArr_seed_fromCorpusExt).std(axis=0)\n",
    "\n",
    "iV_seed_manual = np.median(np.array(infVecArr_seed_manual), axis=0)\n",
    "iV_seed_manual_std = np.array(infVecArr_seed_manual).std(axis=0)\n",
    "\n"
   ]
  },
  {
   "cell_type": "markdown",
   "metadata": {},
   "source": [
    "### define distance metrics for vectors\n",
    "\n",
    "1.) cosine distance"
   ]
  },
  {
   "cell_type": "code",
   "execution_count": null,
   "metadata": {},
   "outputs": [],
   "source": [
    "def cosdistance(v1,v2):\n",
    "    d = np.array([1. - sp.spatial.distance.cosine(v1,v2)])\n",
    "    return d"
   ]
  },
  {
   "cell_type": "code",
   "execution_count": null,
   "metadata": {},
   "outputs": [],
   "source": [
    "def cosdistance_corp(vec,corpus_vectors):\n",
    "    cosd_vec_corp =[]\n",
    "    for i in range (len(corpus_vectors)):\n",
    "        cd = cosdistance(vec,corpus_vectors[i])\n",
    "        cosd_vec_corp.append(cd)\n",
    "    cosd_vec_corp = np.array(cosd_vec_corp).flatten()\n",
    "    return cosd_vec_corp\n",
    "\n"
   ]
  },
  {
   "cell_type": "code",
   "execution_count": null,
   "metadata": {},
   "outputs": [],
   "source": [
    "iV_seed_fromCorpusExt\n",
    "#type(groundTruthEx['reinfVec'])"
   ]
  },
  {
   "cell_type": "code",
   "execution_count": null,
   "metadata": {},
   "outputs": [],
   "source": [
    "cosd_seed_fromCorpusExt = cosdistance_corp(iV_seed_fromCorpusExt,groundTruthEx['reinfVec'])"
   ]
  },
  {
   "cell_type": "code",
   "execution_count": null,
   "metadata": {},
   "outputs": [],
   "source": [
    "cosd_seed_manual = cosdistance_corp(iV_seed_manual,groundTruthEx['reinfVec'])"
   ]
  },
  {
   "cell_type": "code",
   "execution_count": null,
   "metadata": {},
   "outputs": [],
   "source": []
  },
  {
   "cell_type": "code",
   "execution_count": null,
   "metadata": {},
   "outputs": [],
   "source": [
    "cdtest[0:10]"
   ]
  },
  {
   "cell_type": "code",
   "execution_count": null,
   "metadata": {},
   "outputs": [],
   "source": [
    "cosd_seed_manual[0:10]"
   ]
  },
  {
   "cell_type": "code",
   "execution_count": null,
   "metadata": {},
   "outputs": [],
   "source": [
    "topN = np.argsort(cosd_seed_fromCorpusExt)[::-1]\n",
    "topNm = np.argsort(cosd_seed_manual)[::-1]"
   ]
  },
  {
   "cell_type": "code",
   "execution_count": null,
   "metadata": {},
   "outputs": [],
   "source": [
    "groundTruthEx.iloc[topNm[0:25],[2,9]]\n",
    "\n"
   ]
  },
  {
   "cell_type": "code",
   "execution_count": null,
   "metadata": {},
   "outputs": [],
   "source": [
    "gt_corp_lookup[952]"
   ]
  },
  {
   "cell_type": "code",
   "execution_count": null,
   "metadata": {},
   "outputs": [],
   "source": []
  },
  {
   "cell_type": "code",
   "execution_count": null,
   "metadata": {},
   "outputs": [],
   "source": [
    "cosdistance(iVseries[None,:], groundTruthEx['reinfVec'])"
   ]
  },
  {
   "cell_type": "code",
   "execution_count": null,
   "metadata": {},
   "outputs": [],
   "source": [
    "cosdist = np.array([1. - sp.spatial.distance.cosine(med_infarr1,rinfc) for rinfc in reinf_corp_medvec])\n",
    "\n",
    "#cosdist.max()\n",
    "b=np.argsort(cosdist)[::-1]\n",
    "print(b[0:25])\n",
    "print(cosdist[b[0:25]])\n",
    "len(b)"
   ]
  },
  {
   "cell_type": "code",
   "execution_count": null,
   "metadata": {},
   "outputs": [],
   "source": []
  },
  {
   "cell_type": "code",
   "execution_count": null,
   "metadata": {},
   "outputs": [],
   "source": []
  },
  {
   "cell_type": "code",
   "execution_count": null,
   "metadata": {},
   "outputs": [],
   "source": []
  },
  {
   "cell_type": "code",
   "execution_count": null,
   "metadata": {},
   "outputs": [],
   "source": [
    "os.listdir()\n"
   ]
  },
  {
   "cell_type": "code",
   "execution_count": null,
   "metadata": {},
   "outputs": [],
   "source": [
    "gt = pd.read_excel('ManAtt_JWSH_0001-1000.xlsx',sheet_name='Sheet1')"
   ]
  },
  {
   "cell_type": "code",
   "execution_count": null,
   "metadata": {},
   "outputs": [],
   "source": [
    "gt['Titel']\n"
   ]
  },
  {
   "cell_type": "code",
   "execution_count": null,
   "metadata": {},
   "outputs": [],
   "source": [
    "aa=gt['JW_janee']\n"
   ]
  },
  {
   "cell_type": "code",
   "execution_count": null,
   "metadata": {},
   "outputs": [],
   "source": [
    "aa=list(aa)"
   ]
  },
  {
   "cell_type": "code",
   "execution_count": null,
   "metadata": {},
   "outputs": [],
   "source": [
    "bb=[ent.lower() for ent in aa]"
   ]
  },
  {
   "cell_type": "code",
   "execution_count": null,
   "metadata": {},
   "outputs": [],
   "source": []
  },
  {
   "cell_type": "code",
   "execution_count": null,
   "metadata": {},
   "outputs": [],
   "source": [
    "bb"
   ]
  },
  {
   "cell_type": "code",
   "execution_count": null,
   "metadata": {},
   "outputs": [],
   "source": [
    "ids=np.array(np.where(bb=='ja'))"
   ]
  },
  {
   "cell_type": "code",
   "execution_count": null,
   "metadata": {},
   "outputs": [],
   "source": [
    "idja = [i for i, ent in enumerate(bb) if ent == 'ja']\n"
   ]
  },
  {
   "cell_type": "code",
   "execution_count": null,
   "metadata": {},
   "outputs": [],
   "source": [
    "print(idja)"
   ]
  },
  {
   "cell_type": "code",
   "execution_count": null,
   "metadata": {},
   "outputs": [],
   "source": [
    "print(gt['Tekst'][idja])"
   ]
  },
  {
   "cell_type": "code",
   "execution_count": null,
   "metadata": {},
   "outputs": [],
   "source": [
    "unames=list(set(gt['Titel']))"
   ]
  },
  {
   "cell_type": "code",
   "execution_count": null,
   "metadata": {},
   "outputs": [],
   "source": [
    "len(unames)"
   ]
  },
  {
   "cell_type": "code",
   "execution_count": null,
   "metadata": {},
   "outputs": [],
   "source": [
    "unames"
   ]
  },
  {
   "cell_type": "code",
   "execution_count": null,
   "metadata": {},
   "outputs": [],
   "source": [
    "n_entries =[]\n",
    "for n in unames:\n",
    "    n_entries.append(([i for i , ent in enumerate(gt['Titel']) if ent == n]))"
   ]
  },
  {
   "cell_type": "code",
   "execution_count": null,
   "metadata": {},
   "outputs": [],
   "source": [
    "n_entries\n"
   ]
  },
  {
   "cell_type": "code",
   "execution_count": null,
   "metadata": {},
   "outputs": [],
   "source": [
    "aa= [ent for i,ent in enumerate(n_entries) if len(ent) > 1]\n",
    "n_entries[410,345]"
   ]
  },
  {
   "cell_type": "code",
   "execution_count": null,
   "metadata": {},
   "outputs": [],
   "source": [
    "gt['JW_janee'][n_entries[aa[0]]]"
   ]
  },
  {
   "cell_type": "code",
   "execution_count": null,
   "metadata": {},
   "outputs": [],
   "source": []
  }
 ],
 "metadata": {
  "language_info": {
   "name": "python",
   "pygments_lexer": "ipython3"
  }
 },
 "nbformat": 4,
 "nbformat_minor": 2
}
