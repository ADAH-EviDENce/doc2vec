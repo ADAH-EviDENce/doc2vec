{
 "cells": [
  {
   "cell_type": "code",
   "execution_count": null,
   "metadata": {},
   "outputs": [],
   "source": [
    "import pandas as pd\n",
    "import numpy as np\n",
    "import os"
   ]
  },
  {
   "cell_type": "code",
   "execution_count": null,
   "metadata": {},
   "outputs": [],
   "source": [
    "eval_path = '/Users/wrvhage/Research/EviDENce/ML/evaluation_data/'\n",
    "pathA = eval_path + 'single_pass_retrieval/'\n",
    "pathB = eval_path + 'goldstandard_relevance_feedback_pass/'\n",
    "\n",
    "def top20rel(abs_fd):\n",
    "    df = pd.read_csv(abs_fd)\n",
    "    return df[0:20][df.EINDOORDEEL_janee == 'ja'].Titel\n",
    "\n",
    "files = os.listdir(pathA)\n",
    "files.remove('evaluation_at_R.csv')\n",
    "single_pass_rel = []\n",
    "feedback_pass_rel = []\n",
    "added = []\n",
    "removed = []\n",
    "for fd in files:\n",
    "    df20A = top20rel(pathA + fd)\n",
    "    df20B = top20rel(pathB + fd)\n",
    "    single_pass_rel.append(len(df20A))\n",
    "    feedback_pass_rel.append(len(df20B))\n",
    "    added.append(len(pd.concat([df20B,df20A,df20A]).drop_duplicates(keep=False)))\n",
    "    removed.append(len(pd.concat([df20A,df20B,df20B]).drop_duplicates(keep=False)))\n",
    "\n",
    "pd.DataFrame({\n",
    "    'added': added,\n",
    "    'removed': removed,\n",
    "    'single_pass': single_pass_rel,\n",
    "    'feedback_pass': feedback_pass_rel,\n",
    " }).to_csv('added_removed.csv')\n"
   ]
  },
  {
   "cell_type": "code",
   "execution_count": null,
   "metadata": {},
   "outputs": [],
   "source": []
  }
 ],
 "metadata": {
  "language_info": {
   "name": "python",
   "pygments_lexer": "ipython3"
  }
 },
 "nbformat": 4,
 "nbformat_minor": 2
}
