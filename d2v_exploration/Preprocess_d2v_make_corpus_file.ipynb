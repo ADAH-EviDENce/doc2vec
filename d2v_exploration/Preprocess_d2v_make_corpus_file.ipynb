{
 "cells": [
  {
   "cell_type": "markdown",
   "metadata": {},
   "source": [
    "# Pre-processing for doc2vec (step 1)"
   ]
  },
  {
   "cell_type": "markdown",
   "metadata": {},
   "source": [
    "## tranform snippets into a corpus file"
   ]
  },
  {
   "cell_type": "code",
   "execution_count": null,
   "metadata": {},
   "outputs": [],
   "source": [
    "import os\n",
    "import sys\n",
    "#from smart_open import smart_open\n",
    "#import numpy as np\n",
    "#import scipy as sp\n",
    "#import pandas as pd\n",
    "import string\n",
    "#import nltk\n",
    "#import pickle\n",
    "#from nltk.corpus import stopwords"
   ]
  },
  {
   "cell_type": "code",
   "execution_count": null,
   "metadata": {},
   "outputs": [],
   "source": [
    "#datadir_top = '/Users/eslt0101/Data/eScience/EviDENce/testtopterm/'\n",
    "\n",
    "datadir_top = '/Users/eslt0101/Data/eScience/EviDENce/Data/NR-Teksts/EviDENce_NR_output/TargetSize200/lemma_preserve_paragraph'\n",
    "corpusdir_out= '/Users/eslt0101/Data/eScience/EviDENce/Data/NR-Teksts/EviDENce_NR_output/TargetSize200'\n",
    "#datadir_top ='/Users/eslt0101/Data/eScience/EviDENce/Data/NR-Teksts/EviDENce_NR_output/Size100/fragmented_terms/'"
   ]
  },
  {
   "cell_type": "code",
   "execution_count": null,
   "metadata": {},
   "outputs": [],
   "source": [
    "corpus_text_file = 'GV_corpus_lemmas_para_200.txt'\n",
    "corpus_name_file = 'GV_corpus_lemmas_para_200_filenames.txt'"
   ]
  },
  {
   "cell_type": "code",
   "execution_count": null,
   "metadata": {},
   "outputs": [],
   "source": [
    "with open(os.path.join(corpusdir_out, corpus_text_file),'w') as tf , open(os.path.join(corpusdir_out,corpus_name_file),'w') as nf :\n",
    "    for dirName, subdirList, filelist in os.walk(datadir_top,topdown=False):\n",
    "        for fname in filelist :\n",
    "            if fname.endswith('.txt'):\n",
    "                nf.write(fname+' \\n')\n",
    "                with open(os.path.join(dirName,fname),'r') as inf:\n",
    "                    lines = inf.readlines()\n",
    "                    for line in lines:\n",
    "                        tf.write(line+' \\n')\n",
    "                    "
   ]
  },
  {
   "cell_type": "code",
   "execution_count": null,
   "metadata": {},
   "outputs": [],
   "source": []
  }
 ],
 "metadata": {
  "language_info": {
   "name": "python",
   "pygments_lexer": "ipython3"
  }
 },
 "nbformat": 4,
 "nbformat_minor": 2
}
